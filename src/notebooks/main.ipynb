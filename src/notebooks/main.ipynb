{
 "cells": [
  {
   "cell_type": "code",
   "execution_count": null,
   "id": "dc8e58dc",
   "metadata": {},
   "outputs": [],
   "source": [
    "import os\n",
    "from pathlib import Path\n",
    "\n",
    "from src.services.analysis import analyze_sample\n",
    "from src.services.common import logger\n",
    "\n",
    "\n",
    "def run_full_analysis():\n",
    "    \"\"\"\n",
    "    Проводит полный анализ всех образцов.\n",
    "    \"\"\"\n",
    "    db_dir = f\"{os.getcwd()}/db\"          # путь к папке с БД\n",
    "    input_dir = f\"{os.getcwd()}/input\"    # путь к исходным данным с папками образцов\n",
    "    result_dir = f\"{os.getcwd()}/result\"  # путь для сохранения результатов анализа\n",
    "\n",
    "    threads = str(os.cpu_count())  # количество потоков для параллельных вычислений\n",
    "\n",
    "    result_flags = dict()  # словарь для хранения флагов успешности анализа каждого образца\n",
    "\n",
    "    for sample_name in os.listdir(input_dir):\n",
    "        sample_input_dir = input_dir + \"/\" + sample_name\n",
    "        sample_result_dir = result_dir + \"/\" + sample_name\n",
    "\n",
    "        os.makedirs(sample_result_dir, exist_ok=True)\n",
    "\n",
    "        logger.info(f\"Start analyzing sample: {sample_name}\")\n",
    "\n",
    "        sample_analyzed = analyze_sample(\n",
    "            sample_name=sample_name,\n",
    "            sample_input_dir=sample_input_dir,\n",
    "            sample_result_dir=sample_result_dir,\n",
    "            db_dir=db_dir,\n",
    "            gff_type=\"prodigal\",\n",
    "            threads=threads\n",
    "        )\n",
    "\n",
    "        result_flags[sample_name] = sample_analyzed\n",
    "\n",
    "    logger.info(f\"Whole analysis ended successfully:\\n{result_flags}\")\n",
    "\n",
    "\n",
    "run_full_analysis()"
   ]
  }
 ],
 "metadata": {
  "kernelspec": {
   "display_name": "Python 3 (ipykernel)",
   "language": "python",
   "name": "python3"
  },
  "language_info": {
   "codemirror_mode": {
    "name": "ipython",
    "version": 3
   },
   "file_extension": ".py",
   "mimetype": "text/x-python",
   "name": "python",
   "nbconvert_exporter": "python",
   "pygments_lexer": "ipython3",
   "version": "3.12.11"
  }
 },
 "nbformat": 4,
 "nbformat_minor": 5
}
