{
 "cells": [
  {
   "cell_type": "markdown",
   "metadata": {},
   "source": [
    "### Установить conda"
   ]
  },
  {
   "cell_type": "markdown",
   "metadata": {},
   "source": [
    "Создать рабочую среду в conda. "
   ]
  },
  {
   "cell_type": "code",
   "execution_count": null,
   "metadata": {},
   "outputs": [],
   "source": [
    "conda create --name ВВЕСТИ ИМЯ\n"
   ]
  },
  {
   "cell_type": "markdown",
   "metadata": {},
   "source": [
    "Чтобы узнать какие среды уже существуют"
   ]
  },
  {
   "cell_type": "code",
   "execution_count": null,
   "metadata": {},
   "outputs": [],
   "source": [
    "conda env list\n"
   ]
  },
  {
   "cell_type": "markdown",
   "metadata": {},
   "source": [
    "Для установки run_dbcan:"
   ]
  },
  {
   "cell_type": "code",
   "execution_count": null,
   "metadata": {},
   "outputs": [],
   "source": [
    "conda install bioconda::dbcan -y"
   ]
  },
  {
   "cell_type": "markdown",
   "metadata": {},
   "source": [
    "### Загрузка базы данных"
   ]
  },
  {
   "cell_type": "code",
   "execution_count": null,
   "metadata": {},
   "outputs": [],
   "source": [
    "\n",
    "run_dbcan database --db_dir db"
   ]
  },
  {
   "cell_type": "code",
   "execution_count": null,
   "metadata": {},
   "outputs": [],
   "source": [
    "run_dbcan easy_substrate \\ #Команда для предсказания субстратов\n",
    "    --input_raw_data data/AH10-2-MAGs/AH10-2-001.gene \\ # Путь для входных данных (.gene, .faa, .fasta)\n",
    "    --mode prok \\ #Тип входных данных (prok для .gene и .fasta, protein для .faa)\n",
    "    --output_dir AH10-02-001 \\ #Место для сохранения (название папки)\n",
    "    --db_dir dbCAN_db/ \\ # ПУть до базы данных\n",
    "    --input_gff data/AH10-2-MAGs/AH10-2-001.gff \\ # Путь до .gff\n",
    "    --gff_type prodigal\n"
   ]
  },
  {
   "cell_type": "markdown",
   "metadata": {},
   "source": [
    "### CAZymes (dbCan) "
   ]
  },
  {
   "cell_type": "code",
   "execution_count": null,
   "metadata": {},
   "outputs": [],
   "source": [
    "import os\n",
    "import subprocess\n"
   ]
  },
  {
   "cell_type": "code",
   "execution_count": null,
   "metadata": {},
   "outputs": [],
   "source": [
    "def run_dbcan(input_fna, output_dir, input_gff):\n",
    "    command = [\n",
    "        \"run_dbcan\",\n",
    "        \"easy_substrate\",\n",
    "        \"--db_dir\", db_dir,\n",
    "        \"--mode\", mode,\n",
    "        \"--input_raw_data\", input_fna,\n",
    "        \"--output_dir\", output_dir,\n",
    "        \"--threads\", str(threads),\n",
    "        \"--gff_type\", gff_type,\n",
    "        \"--input_gff\", input_gff\n",
    "    ]\n",
    "\n",
    "    print(f\"Running dbCAN for {output_dir}...\")\n",
    "    try:\n",
    "        subprocess.run(command, check=True)\n",
    "        print(f\"Finished dbCAN for {output_dir}.\")\n",
    "    except subprocess.CalledProcessError as e:\n",
    "        print(f\"Error running dbCAN for {output_dir}: {e}\")"
   ]
  },
  {
   "cell_type": "code",
   "execution_count": null,
   "metadata": {},
   "outputs": [],
   "source": [
    "base_dir = \"genome_data\"\n",
    "output_base_dir = \"dbcan_substrates\"\n",
    "os.makedirs(output_base_dir, exist_ok=True)\n",
    "\n",
    "db_dir = \"dbCAN_db\"\n",
    "mode = \"protein\"    \n",
    "threads = 12   \n",
    "gff_type = 'NCBI_prok'   \n",
    "\n",
    "def run_dbcan(input_fna, output_dir, input_gff):\n",
    "    command = [\n",
    "        \"run_dbcan\",\n",
    "        \"easy_substrate\",\n",
    "        \"--db_dir\", db_dir,\n",
    "        \"--mode\", mode,\n",
    "        \"--input_raw_data\", input_fna,\n",
    "        \"--output_dir\", output_dir,\n",
    "        \"--threads\", str(threads),\n",
    "        \"--gff_type\", gff_type,\n",
    "        \"--input_gff\", input_gff\n",
    "    ]\n",
    "\n",
    "    print(f\"Running dbCAN for {output_dir}...\")\n",
    "    try:\n",
    "        subprocess.run(command, check=True)\n",
    "        print(f\"Finished dbCAN for {output_dir}.\")\n",
    "    except subprocess.CalledProcessError as e:\n",
    "        print(f\"Error running dbCAN for {output_dir}: {e}\")\n",
    "\n",
    "for key, name in rename_dict.items():\n",
    "    input_fna = os.path.join(base_dir, name, \"ncbi_dataset\", \"data\", key, \"protein.faa\")\n",
    "    input_gff = os.path.join(base_dir, name, \"ncbi_dataset\", \"data\", key, \"genomic.gff\")\n",
    "\n",
    "    if not os.path.exists(input_fna):\n",
    "        print(f\"File {input_fna} not found, skipping...\")\n",
    "        continue\n",
    "\n",
    "    output_dir = os.path.join(output_base_dir, name)\n",
    "\n",
    "    os.makedirs(output_dir, exist_ok=True)\n",
    "\n",
    "    run_dbcan(input_fna, output_dir, input_gff)"
   ]
  }
 ],
 "metadata": {
  "kernelspec": {
   "display_name": "Python 3 (ipykernel)",
   "language": "python",
   "name": "python3"
  }
 },
 "nbformat": 4,
 "nbformat_minor": 2
}
